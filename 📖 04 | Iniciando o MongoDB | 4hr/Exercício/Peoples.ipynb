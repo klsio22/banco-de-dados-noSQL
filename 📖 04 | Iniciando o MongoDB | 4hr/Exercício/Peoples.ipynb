{
 "cells": [
  {
   "cell_type": "code",
   "execution_count": 1,
   "id": "d96f8c83",
   "metadata": {},
   "outputs": [
    {
     "name": "stdout",
     "output_type": "stream",
     "text": [
      "{'_id': ObjectId('671ae31d283a570ab4fe6912'), 'nome': 'João', 'idade': 30, 'cidade': 'São Paulo'}\n"
     ]
    }
   ],
   "source": [
    "from pymongo import MongoClient\n",
    "\n",
    "# Configurar a conexão com o MongoDB\n",
    "conn = \"mongodb://127.0.0.1:27017/\"\n",
    "client = MongoClient(conn)\n",
    "\n",
    "# Escolher o banco de dados e a coleção\n",
    "database = client[\"MyDataBase\"]\n",
    "people = database[\"people\"]\n",
    "\n",
    "# Recuperar os dados e exibir\n",
    "for people in people.find():\n",
    "    print(people)\n"
   ]
  },
  {
   "cell_type": "code",
   "execution_count": null,
   "id": "5bb78635",
   "metadata": {},
   "outputs": [],
   "source": []
  },
  {
   "cell_type": "code",
   "execution_count": null,
   "id": "558cefbb",
   "metadata": {},
   "outputs": [],
   "source": []
  }
 ],
 "metadata": {
  "kernelspec": {
   "display_name": "Python 3 (ipykernel)",
   "language": "python",
   "name": "python3"
  },
  "language_info": {
   "codemirror_mode": {
    "name": "ipython",
    "version": 3
   },
   "file_extension": ".py",
   "mimetype": "text/x-python",
   "name": "python",
   "nbconvert_exporter": "python",
   "pygments_lexer": "ipython3",
   "version": "3.10.12"
  }
 },
 "nbformat": 4,
 "nbformat_minor": 5
}
